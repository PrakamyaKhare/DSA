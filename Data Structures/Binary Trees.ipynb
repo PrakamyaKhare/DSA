{
 "cells": [
  {
   "cell_type": "code",
   "execution_count": 1,
   "metadata": {},
   "outputs": [],
   "source": [
    "class Node :\n",
    "    def __init__(self,data=0,left=None,right=None) :\n",
    "        self.data = data\n",
    "        self.left = left\n",
    "        self.right = right\n",
    "\n",
    "class Tree :\n",
    "\n",
    "    def __init__(self,head=None) :\n",
    "        self.head = head\n",
    "\n",
    "    def insertNodes(self,array) :\n",
    "        for data in array :\n",
    "            self.insertNode(data)\n",
    "        return\n",
    "\n",
    "    def insertNode(self,data,prev=None,f=0) :\n",
    "        if not f :\n",
    "            if self.head :\n",
    "                if data <= self.head.data :\n",
    "                    self.head.left = self.insertNode(data,prev=self.head.left,f=1)\n",
    "                else :\n",
    "                    self.head.right = self.insertNode(data,prev=self.head.right,f=1)\n",
    "                return\n",
    "            self.head = Node(data=data)\n",
    "            return\n",
    "        if prev :\n",
    "            if data <= prev.data :\n",
    "                prev.left = self.insertNode(data,prev=prev.left,f=1)\n",
    "            else :\n",
    "                prev.right = self.insertNode(data,prev=prev.right,f=1)\n",
    "            return prev\n",
    "        prev = Node(data)\n",
    "        return prev\n",
    "    \n",
    "    def print_tree(self,node=None) :\n",
    "        if node :\n",
    "            print(node.data)\n",
    "            self.print_tree(node.left)\n",
    "            self.print_tree(node.right)\n",
    "        return"
   ]
  },
  {
   "cell_type": "code",
   "execution_count": 2,
   "metadata": {},
   "outputs": [],
   "source": [
    "tree = Tree()"
   ]
  },
  {
   "cell_type": "code",
   "execution_count": 3,
   "metadata": {},
   "outputs": [],
   "source": [
    "\"\"\"\n",
    "tree.insertNode(10)\n",
    "tree.insertNode(13)\n",
    "tree.insertNode(7)\n",
    "\"\"\"\n",
    "tree.insertNodes([12,10,13,7])"
   ]
  },
  {
   "cell_type": "code",
   "execution_count": 4,
   "metadata": {},
   "outputs": [
    {
     "data": {
      "text/plain": [
       "10"
      ]
     },
     "execution_count": 4,
     "metadata": {},
     "output_type": "execute_result"
    }
   ],
   "source": [
    "tree.head.left.data"
   ]
  },
  {
   "cell_type": "code",
   "execution_count": 5,
   "metadata": {},
   "outputs": [
    {
     "name": "stdout",
     "output_type": "stream",
     "text": [
      "12\n",
      "10\n",
      "7\n",
      "13\n"
     ]
    }
   ],
   "source": [
    "tree.print_tree(node=tree.head)"
   ]
  },
  {
   "cell_type": "code",
   "execution_count": 1,
   "metadata": {},
   "outputs": [
    {
     "ename": "LoadError",
     "evalue": "syntax: extra token \"is_num\" after end of expression",
     "output_type": "error",
     "traceback": [
      "syntax: extra token \"is_num\" after end of expression",
      "",
      "Stacktrace:",
      " [1] top-level scope",
      "   @ In[1]:4"
     ]
    }
   ],
   "source": [
    "#(2+3)*5\n",
    "#[(2+3),5] -> [2,3],[5]\n",
    "\n",
    "def is_num(n) :\n",
    "    nums = '123456789'\n",
    "    return n in nums\n",
    "\n",
    "\n",
    "def seperate_brackets(expression,depth=0) :\n",
    "    has_found = False\n",
    "    expr_list = []\n",
    "    N = len(expression)\n",
    "    expr = \"\"\n",
    "    offset = 0\n",
    "    temp = None\n",
    "    for i in range(N) :\n",
    "\n",
    "        if i + offset == N :\n",
    "            break\n",
    "        \n",
    "        if expression[i+offset] == '(' :\n",
    "            if expr :\n",
    "                expr_list.append(expr)\n",
    "                expr = \"\"\n",
    "            if has_found :\n",
    "                # if there is more than one brackets so we just gonna call this function again\n",
    "                temp,offset = seperate_brackets(expression[i+offset:],depth= depth+1)\n",
    "                if expr :\n",
    "                    expr_list.append(expr)\n",
    "                    expr = \"\"\n",
    "                expr_list.append(temp)\n",
    "            has_found = True\n",
    "            continue\n",
    "        \n",
    "        if has_found :\n",
    "            if expression[i+offset] == ')' :\n",
    "                has_found = False\n",
    "                if expr :\n",
    "                    expr_list.append(expr)\n",
    "                    expr = \"\"\n",
    "                if depth > 0 :\n",
    "                    #condition for recursive functional calling which means that this function has been called by itself [depth] times so \n",
    "                    # we just return the list expression together with offset as soon as we encounter the closing brackets\n",
    "                    return expr_list,i+offset\n",
    "            else :\n",
    "                expr += expression[i+offset]\n",
    "            continue\n",
    "\n",
    "        expr += expression[i+offset]\n",
    "\n",
    "        if i+offset == N-1 :\n",
    "            expr_list.append(expr)\n",
    "\n",
    "    return expr_list\n",
    "        \n",
    "\n",
    "\n",
    "def condition_split(expression,sign='+') :\n",
    "    symbols = ['+','*','-','/']\n",
    "    final_list = []\n",
    "    expr = ''\n",
    "    found = False\n",
    "    N = len(expression)\n",
    "    i = 0\n",
    "    while i < N :\n",
    "        if '(' == expression[i] :\n",
    "            found = True\n",
    "            i = i + 1\n",
    "            continue\n",
    "        if found :\n",
    "            if ')' == expression[i] :\n",
    "                found = False\n",
    "                final_list.append(expr)\n",
    "                expr = ''\n",
    "                i = i + 1\n",
    "                continue\n",
    "            expr += expression[i]\n",
    "            i = i + 1\n",
    "            continue\n",
    "        if '-' == expression[i] :\n",
    "            if is_num(expression[i+1]) :\n",
    "                if i > 0 :\n",
    "                    if is_num(expression[i-1]) and sign == '-' :\n",
    "                        final_list.append(expr)\n",
    "                        expr = \"\" \n",
    "                expr += expression[i]\n",
    "                i = i + 1\n",
    "            elif expression[i+1] == '-' :\n",
    "                i = i + 2\n",
    "            elif expression[i+1] == '+' :\n",
    "                # - + = -\n",
    "                expr += '-'\n",
    "                i = i + 2\n",
    "            else :\n",
    "                if sign == '-' :\n",
    "                    final_list.append(expr)\n",
    "                    expr = \"\"\n",
    "                    i = i + 1\n",
    "            continue\n",
    "        if '+' == expression[i] :\n",
    "            if expression[i+1] == '-' :\n",
    "                # + - = -\n",
    "                expr += '-'\n",
    "                i = i + 2\n",
    "            pass\n",
    "    pass"
   ]
  },
  {
   "cell_type": "code",
   "execution_count": 2,
   "metadata": {},
   "outputs": [
    {
     "ename": "LoadError",
     "evalue": "UndefVarError: seperate_brackets not defined",
     "output_type": "error",
     "traceback": [
      "UndefVarError: seperate_brackets not defined",
      "",
      "Stacktrace:",
      " [1] top-level scope",
      "   @ In[2]:2"
     ]
    }
   ],
   "source": [
    "expr = \"2*(9+8+(6*(x+3)+2))*8-(a-b)\"\n",
    "seperate_brackets(expr)"
   ]
  },
  {
   "cell_type": "code",
   "execution_count": null,
   "metadata": {},
   "outputs": [],
   "source": []
  },
  {
   "cell_type": "code",
   "execution_count": null,
   "metadata": {},
   "outputs": [],
   "source": []
  },
  {
   "cell_type": "code",
   "execution_count": null,
   "metadata": {},
   "outputs": [],
   "source": []
  }
 ],
 "metadata": {
  "kernelspec": {
   "display_name": "Julia 1.8.5",
   "language": "julia",
   "name": "julia-1.8"
  },
  "language_info": {
   "file_extension": ".jl",
   "mimetype": "application/julia",
   "name": "julia",
   "version": "1.8.5"
  },
  "orig_nbformat": 4,
  "vscode": {
   "interpreter": {
    "hash": "4873c8d68dc7d05f027107aa992795e76291eb1080f3d61c92f530e364807ec7"
   }
  }
 },
 "nbformat": 4,
 "nbformat_minor": 2
}
