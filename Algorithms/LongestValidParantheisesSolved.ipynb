{
 "cells": [
  {
   "cell_type": "code",
   "execution_count": 170,
   "metadata": {},
   "outputs": [],
   "source": [
    "def f(string) :\n",
    "    #( ( ) )\n",
    "    #()()()(()\n",
    "    #( ( ) ))(()\n",
    "    vector = {}\n",
    "    open = []\n",
    "    closing_side = []\n",
    "    length = []\n",
    "    l = 0\n",
    "    N = len(string)\n",
    "    for i in range(N) :\n",
    "        if string[i] == '(' :\n",
    "            if i+1 == N and len(open) == 0 :\n",
    "                length.append(l)\n",
    "            open.append(['(',i])\n",
    "            continue\n",
    "        if string[i] == ')' and i > 0 :\n",
    "            if len(open) == 0 :\n",
    "                if l > 0 :\n",
    "                    closing_side.append(l)\n",
    "                    length.append(l)\n",
    "                    keys = list(vector.keys())\n",
    "                    for key in keys :\n",
    "                        if key <= i :\n",
    "                            vector.pop(key)\n",
    "                l = 0\n",
    "                continue\n",
    "            open.pop()\n",
    "            l = l + 2\n",
    "            vector[i] = '2'\n",
    "    keys = list(vector.keys())\n",
    "    if len(open) == 0 :\n",
    "        #having no unbalanced parantheses\n",
    "        length.append(l)\n",
    "    if len(open) > 0 :\n",
    "        limit = open[0][1]\n",
    "        l = 0\n",
    "        for key in keys :\n",
    "            if key <= limit :\n",
    "                l = l + 2\n",
    "        length.append(l)\n",
    "    if len(closing_side) == 0 and len(open) > 0 :\n",
    "        limit = open[0][1]\n",
    "        l = 0\n",
    "        for key in keys :\n",
    "            if key <= limit :\n",
    "                l = l + 2\n",
    "        length.append(l)\n",
    "    print('vector = ',vector)\n",
    "    print('length = ',length)\n",
    "    print('closing side = ',closing_side)\n",
    "    print('open = ',open)\n",
    "    Np = len(open)\n",
    "    l = 0\n",
    "    for i in range(Np) :\n",
    "        pos1 = open[i][1]\n",
    "        l = 0\n",
    "        if i+1 == Np :\n",
    "            for key in keys :\n",
    "                if key >= pos1 :\n",
    "                    l = l + 2\n",
    "            length.append(l)\n",
    "        else :\n",
    "            pos2 = open[i+1][1]\n",
    "            l = 0\n",
    "            for key in keys :\n",
    "                if key >= pos1 and key <= pos2 :\n",
    "                    l = l + 2\n",
    "                    continue\n",
    "                if key > pos2 :\n",
    "                    break\n",
    "            length.append(l)\n",
    "    #print(length)\n",
    "    return max(length)"
   ]
  },
  {
   "cell_type": "code",
   "execution_count": 171,
   "metadata": {},
   "outputs": [
    {
     "name": "stdout",
     "output_type": "stream",
     "text": [
      "vector =  {1: '2', 4: '2'}\n",
      "length =  [2, 2]\n",
      "closing side =  []\n",
      "open =  [['(', 2], ['(', 5], ['(', 6], ['(', 7]]\n",
      "2\n",
      "vector =  {3: '2', 4: '2'}\n",
      "length =  [0, 0]\n",
      "closing side =  []\n",
      "open =  [['(', 0]]\n",
      "4\n",
      "vector =  {18: '2', 19: '2', 20: '2', 21: '2', 22: '2'}\n",
      "length =  [6, 2, 10]\n",
      "closing side =  [6, 2]\n",
      "open =  []\n"
     ]
    },
    {
     "data": {
      "text/plain": [
       "10"
      ]
     },
     "execution_count": 171,
     "metadata": {},
     "output_type": "execute_result"
    }
   ],
   "source": [
    "print(f(\"()(()(((\"))\n",
    "\n",
    "\n",
    "print(f(\"((())\"))\n",
    "f(\"((())))))()))((((()))))\")"
   ]
  },
  {
   "cell_type": "code",
   "execution_count": 172,
   "metadata": {},
   "outputs": [
    {
     "name": "stdout",
     "output_type": "stream",
     "text": [
      "vector =  {8: '2', 10: '2', 13: '2'}\n",
      "length =  [2, 4]\n",
      "closing side =  [2]\n",
      "open =  [['(', 11]]\n"
     ]
    },
    {
     "data": {
      "text/plain": [
       "4"
      ]
     },
     "execution_count": 172,
     "metadata": {},
     "output_type": "execute_result"
    }
   ],
   "source": [
    "f(\"))))())()()(()\")\n",
    "\n",
    "#f(\"()()()(())\")"
   ]
  },
  {
   "cell_type": "code",
   "execution_count": 173,
   "metadata": {},
   "outputs": [
    {
     "name": "stdout",
     "output_type": "stream",
     "text": [
      "vector =  {16: '2', 17: '2', 20: '2', 21: '2', 25: '2', 26: '2', 28: '2'}\n",
      "length =  [4, 6, 0]\n",
      "closing side =  [4, 6]\n",
      "open =  [['(', 13], ['(', 22]]\n"
     ]
    },
    {
     "data": {
      "text/plain": [
       "8"
      ]
     },
     "execution_count": 173,
     "metadata": {},
     "output_type": "execute_result"
    }
   ],
   "source": [
    "f(\"(()))((()))))((())(())((())()\")"
   ]
  },
  {
   "cell_type": "code",
   "execution_count": 174,
   "metadata": {},
   "outputs": [
    {
     "name": "stdout",
     "output_type": "stream",
     "text": [
      "vector =  {}\n",
      "length =  [6, 2, 10, 0]\n",
      "closing side =  [6, 2, 10]\n",
      "open =  []\n",
      "10\n",
      "vector =  {18: '2', 19: '2', 20: '2', 21: '2', 22: '2'}\n",
      "length =  [6, 2, 10]\n",
      "closing side =  [6, 2]\n",
      "open =  []\n"
     ]
    },
    {
     "data": {
      "text/plain": [
       "10"
      ]
     },
     "execution_count": 174,
     "metadata": {},
     "output_type": "execute_result"
    }
   ],
   "source": [
    "print(f(\"((())))))()))((((())))))\"))\n",
    "f(\"((())))))()))((((()))))\")"
   ]
  },
  {
   "cell_type": "code",
   "execution_count": 176,
   "metadata": {},
   "outputs": [
    {
     "name": "stdout",
     "output_type": "stream",
     "text": [
      "vector =  {2: '2', 3: '2', 5: '2', 8: '2'}\n",
      "length =  [6, 6]\n",
      "closing side =  []\n",
      "open =  [['(', 6], ['(', 9], ['(', 10]]\n",
      "6\n",
      "vector =  {2: '2'}\n",
      "length =  [2, 2]\n",
      "closing side =  []\n",
      "open =  [['(', 3], ['(', 4]]\n",
      "2\n",
      "vector =  {4: '2'}\n",
      "length =  [2, 2, 2]\n",
      "closing side =  []\n",
      "open =  [['(', 5]]\n",
      "2\n",
      "vector =  {1: '2', 4: '2'}\n",
      "length =  [2, 2]\n",
      "closing side =  []\n",
      "open =  [['(', 2]]\n",
      "2\n",
      "vector =  {2: '2', 3: '2'}\n",
      "length =  [4, 4, 4]\n",
      "closing side =  []\n",
      "open =  [['(', 4]]\n",
      "4\n"
     ]
    }
   ],
   "source": [
    "print(f(\"(())()(()((\"))\n",
    "print(f(\")()((\"))\n",
    "print(f(\")))()(\"))\n",
    "print(f(\"()(()\"))\n",
    "print(f(\"(())(\"))"
   ]
  },
  {
   "cell_type": "code",
   "execution_count": 177,
   "metadata": {},
   "outputs": [
    {
     "name": "stdout",
     "output_type": "stream",
     "text": [
      "vector =  {1: '2', 3: '2'}\n",
      "length =  [4]\n",
      "closing side =  []\n",
      "open =  []\n"
     ]
    },
    {
     "data": {
      "text/plain": [
       "4"
      ]
     },
     "execution_count": 177,
     "metadata": {},
     "output_type": "execute_result"
    }
   ],
   "source": [
    "f(\"()()\")"
   ]
  },
  {
   "cell_type": "code",
   "execution_count": 178,
   "metadata": {},
   "outputs": [
    {
     "name": "stdout",
     "output_type": "stream",
     "text": [
      "vector =  {7: '2', 9: '2', 11: '2', 13: '2'}\n",
      "length =  [4, 8, 8]\n",
      "closing side =  [4]\n",
      "open =  [['(', 14]]\n"
     ]
    },
    {
     "data": {
      "text/plain": [
       "8"
      ]
     },
     "execution_count": 178,
     "metadata": {},
     "output_type": "execute_result"
    }
   ],
   "source": [
    "f(\")()())()()()()(\")"
   ]
  },
  {
   "cell_type": "code",
   "execution_count": 179,
   "metadata": {},
   "outputs": [
    {
     "name": "stdout",
     "output_type": "stream",
     "text": [
      "vector =  {11: '2', 13: '2', 17: '2', 18: '2', 20: '2'}\n",
      "length =  [2, 4, 0]\n",
      "closing side =  [2, 4]\n",
      "open =  [['(', 9], ['(', 14]]\n"
     ]
    },
    {
     "data": {
      "text/plain": [
       "6"
      ]
     },
     "execution_count": 179,
     "metadata": {},
     "output_type": "execute_result"
    }
   ],
   "source": [
    "f(\"())(())))(()()((())()\")"
   ]
  },
  {
   "cell_type": "code",
   "execution_count": null,
   "metadata": {},
   "outputs": [],
   "source": []
  }
 ],
 "metadata": {
  "kernelspec": {
   "display_name": "base",
   "language": "python",
   "name": "python3"
  },
  "language_info": {
   "codemirror_mode": {
    "name": "ipython",
    "version": 3
   },
   "file_extension": ".py",
   "mimetype": "text/x-python",
   "name": "python",
   "nbconvert_exporter": "python",
   "pygments_lexer": "ipython3",
   "version": "3.9.13"
  }
 },
 "nbformat": 4,
 "nbformat_minor": 2
}
