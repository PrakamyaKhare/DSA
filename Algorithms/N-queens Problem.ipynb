{
 "cells": [
  {
   "cell_type": "code",
   "execution_count": 51,
   "metadata": {},
   "outputs": [],
   "source": [
    "def check_pos(queens_pos) :\n",
    "    last_pos = queens_pos[-1]\n",
    "    for i in range(len(queens_pos)-1) :\n",
    "        pos = queens_pos[i]\n",
    "        if abs(pos[0]-last_pos[0] + pos[1] - last_pos[1]) < 3 :\n",
    "            return False\n",
    "    return True\n",
    "\n",
    "def n_queens(n,start=(0,1)) :\n",
    "    board = [['.' for i in range(n)] for j in range(n)]\n",
    "    queens_pos = [start]\n",
    "    ptr = 0\n",
    "    board[start[0]][start[1]] = 'Q'\n",
    "    count_Q = 1\n",
    "    print(queens_pos[0])\n",
    "    for i in range(n*n) :\n",
    "        is_horizontal = True\n",
    "        is_vertical = False\n",
    "        for j in range(n) :\n",
    "            pos = queens_pos[ptr]\n",
    "            for k in range(n) :\n",
    "                if is_horizontal :\n",
    "                    if pos[0] + 1 == j and pos[1] + 2 >= k or pos[0] - 1 >= j & pos[1] - 2 >= k:\n",
    "                        queens_pos.append((j,k))\n",
    "                        if not check_pos(queens_pos) :\n",
    "                            queens_pos.remove((j,k))\n",
    "                            continue\n",
    "                        board[j][k] = 'Q'\n",
    "                        is_horizontal = False\n",
    "                        is_vertical = True\n",
    "                        ptr = ptr + 1\n",
    "                        count_Q = count_Q + 1\n",
    "                        break\n",
    "                if is_vertical :\n",
    "                    if pos[0] + 2 == j and pos[1] + 1 == k or pos[0] - 2 == j & pos[1] - 1 == k:\n",
    "                        queens_pos.append((j,k))\n",
    "                        if not check_pos(queens_pos) :\n",
    "                            queens_pos.remove((j,k))\n",
    "                            continue\n",
    "                        board[j][k] = 'Q'\n",
    "                        is_vertical = False\n",
    "                        is_horizontal = True\n",
    "                        ptr = ptr + 1\n",
    "                        count_Q = count_Q + 1\n",
    "                        break\n",
    "            if is_vertical :\n",
    "                continue\n",
    "    print_board(board)\n",
    "    \n",
    "def print_board(board) :\n",
    "    for i in range(len(board)) :\n",
    "        print(board[i])\n",
    "            "
   ]
  },
  {
   "cell_type": "code",
   "execution_count": 52,
   "metadata": {},
   "outputs": [
    {
     "name": "stdout",
     "output_type": "stream",
     "text": [
      "(0, 1)\n",
      "['.', 'Q', '.', '.']\n",
      "['.', '.', '.', 'Q']\n",
      "['.', '.', '.', '.']\n",
      "['.', '.', '.', '.']\n"
     ]
    }
   ],
   "source": [
    "n_queens(4)"
   ]
  },
  {
   "cell_type": "code",
   "execution_count": null,
   "metadata": {},
   "outputs": [],
   "source": []
  }
 ],
 "metadata": {
  "kernelspec": {
   "display_name": "base",
   "language": "python",
   "name": "python3"
  },
  "language_info": {
   "codemirror_mode": {
    "name": "ipython",
    "version": 3
   },
   "file_extension": ".py",
   "mimetype": "text/x-python",
   "name": "python",
   "nbconvert_exporter": "python",
   "pygments_lexer": "ipython3",
   "version": "3.9.13"
  }
 },
 "nbformat": 4,
 "nbformat_minor": 2
}
