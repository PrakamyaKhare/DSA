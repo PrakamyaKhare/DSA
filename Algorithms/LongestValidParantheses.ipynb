{
 "cells": [
  {
   "cell_type": "code",
   "execution_count": 197,
   "metadata": {},
   "outputs": [],
   "source": [
    "def f(string) :\n",
    "    if len(string) <= 2 :\n",
    "        if len(string) == 2 :\n",
    "            if string[0] == '(' and string[1] == ')' :\n",
    "                return 2\n",
    "        return 0\n",
    "    open = []\n",
    "    brackets_length = []\n",
    "    vector = {}\n",
    "    closing_brackets = []\n",
    "    l = 0\n",
    "    l1 = 0\n",
    "    for i in range(len(string)) :\n",
    "        if string[i] == '(' :\n",
    "            open.append(['(',i])\n",
    "            continue\n",
    "        if string[i] == ')' and i > 0 :\n",
    "            if len(open) == 0 :\n",
    "                if l > 0 :\n",
    "                    brackets_length.append(l)\n",
    "                    closing_brackets.append([l,i])\n",
    "                l = 0\n",
    "                continue\n",
    "            open.pop()\n",
    "            l = l + 2\n",
    "            vector[str(i)] = 2\n",
    "    keys = list(vector.keys())\n",
    "    print(brackets_length)\n",
    "    print(vector)\n",
    "    print(closing_brackets)\n",
    "    print(open)     \n",
    "    if len(keys) == 0 :\n",
    "        return 0\n",
    "    if len(open) == len(brackets_length) == 0 :\n",
    "        values = list(vector.values())\n",
    "        return 2*len(values)\n",
    "    if (len(brackets_length) == 0 or sum(brackets_length) == 0) and len(open) > 0 :\n",
    "        values = list(vector.values())\n",
    "        if open[0][1] == len(string)-1 :\n",
    "            return 2*len(values)\n",
    "        if int(keys[0]) < open[0][1] :\n",
    "            l1 = 0\n",
    "            for v in range(len(keys)) :\n",
    "                if int(keys[v]) <= open[0][1] :\n",
    "                    l1 = l1 + 2\n",
    "            brackets_length.append(l1)\n",
    "        for k in range(len(open)) :\n",
    "            pos = open[k][1]\n",
    "            if k+1 == len(open) :\n",
    "                l1 = 0\n",
    "                for v in range(len(keys)) :\n",
    "                    b = int(keys[v])\n",
    "                    if b >= pos :\n",
    "                        l1 = l1 + 2\n",
    "                brackets_length.append(l1)\n",
    "            else :\n",
    "                pos2 = open[k+1][1]\n",
    "                l1 = 0\n",
    "                for j in range(len(keys)) :\n",
    "                    v = int(keys[j])\n",
    "                    if v >= pos and v <= pos2 :\n",
    "                        l1 = l1 + 2\n",
    "                brackets_length.append(l1)\n",
    "        max_ = max(brackets_length)\n",
    "        if max_ == 0 and len(values) > 0 :\n",
    "            return sum(values)\n",
    "        return max_\n",
    "    for i in range(len(open)) :\n",
    "        pos = open[i][1]\n",
    "        if i+1 == len(open) :\n",
    "            l1 = 0\n",
    "            for j in range(len(keys)) :\n",
    "                if int(keys[j]) >= pos :\n",
    "                    l1 = l1 + 2\n",
    "            brackets_length.append(l1)\n",
    "        else :\n",
    "            pos2 = open[i+1][1]\n",
    "            l1 = 0\n",
    "            for j in range(len(keys)) :\n",
    "                val = int(keys[j])\n",
    "                if val >= pos and val <= pos2 :\n",
    "                    l1 = l1 + 2\n",
    "            brackets_length.append(l1)\n",
    "    return max(brackets_length)"
   ]
  },
  {
   "cell_type": "code",
   "execution_count": 198,
   "metadata": {},
   "outputs": [
    {
     "name": "stdout",
     "output_type": "stream",
     "text": [
      "[2, 4]\n",
      "{'1': 2, '5': 2, '6': 2, '11': 2, '13': 2, '17': 2, '18': 2, '20': 2}\n",
      "[[2, 2], [4, 7]]\n",
      "[['(', 9], ['(', 14]]\n"
     ]
    },
    {
     "data": {
      "text/plain": [
       "6"
      ]
     },
     "execution_count": 198,
     "metadata": {},
     "output_type": "execute_result"
    }
   ],
   "source": [
    "f(\"())(())))(()()((())()\")\n",
    "#2,4,4"
   ]
  },
  {
   "cell_type": "code",
   "execution_count": 186,
   "metadata": {},
   "outputs": [
    {
     "data": {
      "text/plain": [
       "0"
      ]
     },
     "execution_count": 186,
     "metadata": {},
     "output_type": "execute_result"
    }
   ],
   "source": [
    "f(\")\")"
   ]
  },
  {
   "cell_type": "code",
   "execution_count": 202,
   "metadata": {},
   "outputs": [
    {
     "name": "stdout",
     "output_type": "stream",
     "text": [
      "[4]\n",
      "{'2': 2, '4': 2, '7': 2, '9': 2}\n",
      "[[4, 5]]\n",
      "[['(', 10]]\n"
     ]
    },
    {
     "data": {
      "text/plain": [
       "4"
      ]
     },
     "execution_count": 202,
     "metadata": {},
     "output_type": "execute_result"
    }
   ],
   "source": [
    "f(\")()())()()(\")"
   ]
  },
  {
   "cell_type": "code",
   "execution_count": 188,
   "metadata": {},
   "outputs": [
    {
     "name": "stdout",
     "output_type": "stream",
     "text": [
      "['1', '3']\n",
      "[]\n",
      "{'1': 2, '3': 2}\n",
      "[]\n"
     ]
    },
    {
     "data": {
      "text/plain": [
       "4"
      ]
     },
     "execution_count": 188,
     "metadata": {},
     "output_type": "execute_result"
    }
   ],
   "source": [
    "f(\"()()\")"
   ]
  },
  {
   "cell_type": "code",
   "execution_count": 189,
   "metadata": {},
   "outputs": [
    {
     "name": "stdout",
     "output_type": "stream",
     "text": [
      "['2', '3']\n",
      "[]\n",
      "{'2': 2, '3': 2}\n",
      "[]\n"
     ]
    },
    {
     "data": {
      "text/plain": [
       "4"
      ]
     },
     "execution_count": 189,
     "metadata": {},
     "output_type": "execute_result"
    }
   ],
   "source": [
    "f(\"(())(\")"
   ]
  },
  {
   "cell_type": "code",
   "execution_count": 190,
   "metadata": {},
   "outputs": [
    {
     "name": "stdout",
     "output_type": "stream",
     "text": [
      "['1', '4']\n",
      "[]\n",
      "{'1': 2, '4': 2}\n",
      "[]\n"
     ]
    },
    {
     "data": {
      "text/plain": [
       "2"
      ]
     },
     "execution_count": 190,
     "metadata": {},
     "output_type": "execute_result"
    }
   ],
   "source": [
    "f(\"()(()\")"
   ]
  },
  {
   "cell_type": "code",
   "execution_count": 201,
   "metadata": {},
   "outputs": [
    {
     "name": "stdout",
     "output_type": "stream",
     "text": [
      "[]\n",
      "{'4': 2}\n",
      "[]\n",
      "[['(', 5]]\n"
     ]
    },
    {
     "data": {
      "text/plain": [
       "2"
      ]
     },
     "execution_count": 201,
     "metadata": {},
     "output_type": "execute_result"
    }
   ],
   "source": [
    "f(\")))()(\")"
   ]
  },
  {
   "cell_type": "code",
   "execution_count": 192,
   "metadata": {},
   "outputs": [
    {
     "name": "stdout",
     "output_type": "stream",
     "text": [
      "['2']\n",
      "[]\n",
      "{'2': 2}\n",
      "[]\n"
     ]
    },
    {
     "data": {
      "text/plain": [
       "2"
      ]
     },
     "execution_count": 192,
     "metadata": {},
     "output_type": "execute_result"
    }
   ],
   "source": [
    "f(\")()((\")"
   ]
  },
  {
   "cell_type": "code",
   "execution_count": 200,
   "metadata": {},
   "outputs": [
    {
     "name": "stdout",
     "output_type": "stream",
     "text": [
      "[]\n",
      "{'2': 2, '3': 2, '5': 2, '8': 2}\n",
      "[]\n",
      "[['(', 6], ['(', 9], ['(', 10]]\n"
     ]
    },
    {
     "data": {
      "text/plain": [
       "6"
      ]
     },
     "execution_count": 200,
     "metadata": {},
     "output_type": "execute_result"
    }
   ],
   "source": [
    "f(\"(())()(()((\")"
   ]
  },
  {
   "cell_type": "code",
   "execution_count": 199,
   "metadata": {},
   "outputs": [
    {
     "name": "stdout",
     "output_type": "stream",
     "text": [
      "[2]\n",
      "{'5': 2, '8': 2, '10': 2, '13': 2}\n",
      "[[2, 6]]\n",
      "[['(', 11]]\n"
     ]
    },
    {
     "data": {
      "text/plain": [
       "2"
      ]
     },
     "execution_count": 199,
     "metadata": {},
     "output_type": "execute_result"
    }
   ],
   "source": [
    "f(\"))))())()()(()\")"
   ]
  },
  {
   "cell_type": "code",
   "execution_count": 208,
   "metadata": {},
   "outputs": [
    {
     "name": "stdout",
     "output_type": "stream",
     "text": [
      "[6, 2]\n",
      "{'3': 2, '4': 2, '5': 2, '10': 2, '18': 2, '19': 2, '20': 2, '21': 2, '22': 2}\n",
      "[[6, 6], [2, 11]]\n",
      "[]\n"
     ]
    },
    {
     "data": {
      "text/plain": [
       "6"
      ]
     },
     "execution_count": 208,
     "metadata": {},
     "output_type": "execute_result"
    }
   ],
   "source": [
    "f(\"((())))))()))((((()))))\")"
   ]
  },
  {
   "cell_type": "code",
   "execution_count": 205,
   "metadata": {},
   "outputs": [
    {
     "name": "stdout",
     "output_type": "stream",
     "text": [
      "[2, 4]\n",
      "{'1': 2, '4': 2, '6': 2}\n",
      "[[2, 2], [4, 7]]\n",
      "[]\n"
     ]
    },
    {
     "data": {
      "text/plain": [
       "4"
      ]
     },
     "execution_count": 205,
     "metadata": {},
     "output_type": "execute_result"
    }
   ],
   "source": [
    "f(\"())()())\")"
   ]
  },
  {
   "cell_type": "code",
   "execution_count": 210,
   "metadata": {},
   "outputs": [
    {
     "name": "stdout",
     "output_type": "stream",
     "text": [
      "[]\n",
      "{'3': 2, '4': 2}\n",
      "[]\n",
      "[['(', 0]]\n"
     ]
    },
    {
     "data": {
      "text/plain": [
       "4"
      ]
     },
     "execution_count": 210,
     "metadata": {},
     "output_type": "execute_result"
    }
   ],
   "source": [
    "f('((())')"
   ]
  },
  {
   "cell_type": "code",
   "execution_count": null,
   "metadata": {},
   "outputs": [],
   "source": []
  }
 ],
 "metadata": {
  "kernelspec": {
   "display_name": "base",
   "language": "python",
   "name": "python3"
  },
  "language_info": {
   "codemirror_mode": {
    "name": "ipython",
    "version": 3
   },
   "file_extension": ".py",
   "mimetype": "text/x-python",
   "name": "python",
   "nbconvert_exporter": "python",
   "pygments_lexer": "ipython3",
   "version": "3.9.13"
  }
 },
 "nbformat": 4,
 "nbformat_minor": 2
}
