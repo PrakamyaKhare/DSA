{
 "cells": [
  {
   "cell_type": "code",
   "execution_count": 7,
   "metadata": {},
   "outputs": [],
   "source": [
    "import numpy as np\n",
    "import matplotlib.pyplot as plt"
   ]
  },
  {
   "cell_type": "code",
   "execution_count": 34,
   "metadata": {},
   "outputs": [],
   "source": [
    "def nernst_potential(T,c_in,c_out,z) :\n",
    "    R = 8.31451\n",
    "    F = 96000\n",
    "    return (R*T/z*F)*np.log(c_out/c_in)\n",
    "\n",
    "def delta_ions(z=0,v=0,t=0,c_in=0,c_out=0) :\n",
    "    e = 1.602*10**(-19)\n",
    "    k = 1.381*10**(-23)\n",
    "    F = 96000\n",
    "    R = 1.98\n",
    "    E = z*F*v/R*t\n",
    "    return np.exp(z*F*v/R*t) - c_out/c_in\n",
    "    return (c_in*np.exp(z*e*v/k*t) - c_out)/(1 - np.exp(z*e*v/k*t))"
   ]
  },
  {
   "cell_type": "code",
   "execution_count": 35,
   "metadata": {},
   "outputs": [
    {
     "name": "stderr",
     "output_type": "stream",
     "text": [
      "C:\\Users\\dell\\AppData\\Local\\Temp\\ipykernel_18392\\1039992911.py:12: RuntimeWarning: overflow encountered in exp\n",
      "  return np.exp(z*F*v/R*t) - c_out/c_in\n"
     ]
    },
    {
     "data": {
      "text/plain": [
       "1781116.1172840097"
      ]
     },
     "execution_count": 35,
     "metadata": {},
     "output_type": "execute_result"
    }
   ],
   "source": [
    "delta_ions(z=1,t=27,c_in=0.5,c_out=.5,v=100)\n",
    "nernst_potential(10,80,100,1)"
   ]
  },
  {
   "cell_type": "code",
   "execution_count": null,
   "metadata": {},
   "outputs": [],
   "source": []
  }
 ],
 "metadata": {
  "kernelspec": {
   "display_name": "base",
   "language": "python",
   "name": "python3"
  },
  "language_info": {
   "codemirror_mode": {
    "name": "ipython",
    "version": 3
   },
   "file_extension": ".py",
   "mimetype": "text/x-python",
   "name": "python",
   "nbconvert_exporter": "python",
   "pygments_lexer": "ipython3",
   "version": "3.9.13"
  }
 },
 "nbformat": 4,
 "nbformat_minor": 2
}
